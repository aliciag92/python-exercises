{
 "cells": [
  {
   "cell_type": "code",
   "execution_count": 18,
   "metadata": {},
   "outputs": [
    {
     "data": {
      "text/plain": [
       "20.0"
      ]
     },
     "execution_count": 18,
     "metadata": {},
     "output_type": "execute_result"
    }
   ],
   "source": [
    "import function_exercises\n",
    "\n",
    "function_exercises.apply_discount(40, .50)"
   ]
  },
  {
   "cell_type": "code",
   "execution_count": 20,
   "metadata": {},
   "outputs": [
    {
     "data": {
      "text/plain": [
       "9.525"
      ]
     },
     "execution_count": 20,
     "metadata": {},
     "output_type": "execute_result"
    }
   ],
   "source": [
    "from function_exercises import calculate_tip as ct\n",
    "\n",
    "ct(.15, 63.50)"
   ]
  },
  {
   "cell_type": "code",
   "execution_count": 21,
   "metadata": {},
   "outputs": [
    {
     "data": {
      "text/plain": [
       "'Banana'"
      ]
     },
     "execution_count": 21,
     "metadata": {},
     "output_type": "execute_result"
    }
   ],
   "source": [
    "from function_exercises import word\n",
    "\n",
    "word(\"banana\")"
   ]
  },
  {
   "cell_type": "code",
   "execution_count": 22,
   "metadata": {},
   "outputs": [
    {
     "data": {
      "text/plain": [
       "9"
      ]
     },
     "execution_count": 22,
     "metadata": {},
     "output_type": "execute_result"
    }
   ],
   "source": [
    "#itertools\n",
    "\n",
    "import itertools as it\n",
    "\n",
    "len(list(it.product([1, 2, 3], 'abc')))\n"
   ]
  },
  {
   "cell_type": "code",
   "execution_count": 23,
   "metadata": {},
   "outputs": [
    {
     "data": {
      "text/plain": [
       "6"
      ]
     },
     "execution_count": 23,
     "metadata": {},
     "output_type": "execute_result"
    }
   ],
   "source": [
    "len(list(it.combinations('abcd', 2)))"
   ]
  },
  {
   "cell_type": "code",
   "execution_count": 24,
   "metadata": {},
   "outputs": [],
   "source": [
    "import json\n",
    "profiles = json.load(open('profiles.json'))"
   ]
  },
  {
   "cell_type": "code",
   "execution_count": 25,
   "metadata": {},
   "outputs": [
    {
     "data": {
      "text/plain": [
       "19"
      ]
     },
     "execution_count": 25,
     "metadata": {},
     "output_type": "execute_result"
    }
   ],
   "source": [
    "#total number of users\n",
    "len(profiles)"
   ]
  },
  {
   "cell_type": "code",
   "execution_count": 26,
   "metadata": {},
   "outputs": [
    {
     "data": {
      "text/plain": [
       "9"
      ]
     },
     "execution_count": 26,
     "metadata": {},
     "output_type": "execute_result"
    }
   ],
   "source": [
    "#number of active users\n",
    "len([profile for profile in profiles if profile['isActive']])"
   ]
  },
  {
   "cell_type": "code",
   "execution_count": 27,
   "metadata": {},
   "outputs": [
    {
     "data": {
      "text/plain": [
       "10"
      ]
     },
     "execution_count": 27,
     "metadata": {},
     "output_type": "execute_result"
    }
   ],
   "source": [
    "#number of inactive users\n",
    "len([profile for profile in profiles if not profile['isActive']])"
   ]
  },
  {
   "cell_type": "code",
   "execution_count": 41,
   "metadata": {},
   "outputs": [
    {
     "name": "stdout",
     "output_type": "stream",
     "text": [
      "52667.02\n"
     ]
    }
   ],
   "source": [
    "#grand total of balances for all users\n",
    "\n",
    "def convert_balances(balances):\n",
    "    balances_float = []\n",
    "    \n",
    "    for balance in balances:\n",
    "        balance = balance.replace(\"$\", \"\")\n",
    "        balance = balance.replace(\",\", \"\")\n",
    "        \n",
    "        balances_float.append(float(balance))\n",
    "    \n",
    "    return balances_float\n",
    "\n",
    "balance = convert_balances([profile[\"balance\"] for profile in profiles])\n",
    "total_balance = sum(balance)\n",
    "\n",
    "print(total_balance)"
   ]
  },
  {
   "cell_type": "code",
   "execution_count": 52,
   "metadata": {},
   "outputs": [
    {
     "data": {
      "text/plain": [
       "2771.95"
      ]
     },
     "execution_count": 52,
     "metadata": {},
     "output_type": "execute_result"
    }
   ],
   "source": [
    "#average balance per user\n",
    "average_balance = total_balance / len(profiles)\n",
    "\n",
    "round(average_balance, 2)"
   ]
  },
  {
   "cell_type": "code",
   "execution_count": 71,
   "metadata": {},
   "outputs": [
    {
     "name": "stdout",
     "output_type": "stream",
     "text": [
      "1214.1\n"
     ]
    }
   ],
   "source": [
    "#user with the lowest balance\n",
    "def convert_balances(balances):\n",
    "    balances_float = []\n",
    "    \n",
    "    for balance in balances:\n",
    "        balance = balance.replace(\"$\", \"\")\n",
    "        balance = balance.replace(\",\", \"\")\n",
    "        \n",
    "        balances_float.append(float(balance))\n",
    "    \n",
    "    return balances_float\n",
    "\n",
    "balance = convert_balances([profile[\"balance\"] for profile in profiles])\n",
    "lowest_balance = min(balance)\n",
    "\n",
    "print(lowest_balance)"
   ]
  },
  {
   "cell_type": "code",
   "execution_count": 72,
   "metadata": {},
   "outputs": [
    {
     "name": "stdout",
     "output_type": "stream",
     "text": [
      "3919.64\n"
     ]
    }
   ],
   "source": [
    "#user with highest balance\n",
    "def convert_balances(balances):\n",
    "    balances_float = []\n",
    "    \n",
    "    for balance in balances:\n",
    "        balance = balance.replace(\"$\", \"\")\n",
    "        balance = balance.replace(\",\", \"\")\n",
    "        \n",
    "        balances_float.append(float(balance))\n",
    "    \n",
    "    return balances_float\n",
    "\n",
    "balance = convert_balances([profile[\"balance\"] for profile in profiles])\n",
    "highest_balance = max(balance)\n",
    "\n",
    "print(highest_balance)"
   ]
  },
  {
   "cell_type": "code",
   "execution_count": 74,
   "metadata": {},
   "outputs": [
    {
     "data": {
      "text/plain": [
       "'strawberry'"
      ]
     },
     "execution_count": 74,
     "metadata": {},
     "output_type": "execute_result"
    }
   ],
   "source": [
    "#most common favorite fruit\n",
    "import statistics\n",
    "\n",
    "statistics.mode(profile[\"favoriteFruit\"] for profile in profiles)"
   ]
  },
  {
   "cell_type": "code",
   "execution_count": 75,
   "metadata": {},
   "outputs": [
    {
     "data": {
      "text/plain": [
       "'apple'"
      ]
     },
     "execution_count": 75,
     "metadata": {},
     "output_type": "execute_result"
    }
   ],
   "source": [
    "#least most common favorite fruit\n",
    "min(profile[\"favoriteFruit\"] for profile in profiles)"
   ]
  },
  {
   "cell_type": "code",
   "execution_count": 82,
   "metadata": {},
   "outputs": [
    {
     "name": "stdout",
     "output_type": "stream",
     "text": [
      "111\n"
     ]
    }
   ],
   "source": [
    "#total number of unread messages for all users\n",
    "greetings = [profile[\"greeting\"] for profile in profiles]\n",
    "unread_messages = []\n",
    "\n",
    "for greeting in greetings:\n",
    "    for word in greeting:\n",
    "        if word.isnumeric():\n",
    "            unread_messages.append(int(word))\n",
    "\n",
    "total_unread_messages = sum(unread_messages)\n",
    "print(total_unread_messages)"
   ]
  },
  {
   "cell_type": "code",
   "execution_count": null,
   "metadata": {},
   "outputs": [],
   "source": []
  }
 ],
 "metadata": {
  "kernelspec": {
   "display_name": "Python 3",
   "language": "python",
   "name": "python3"
  },
  "language_info": {
   "codemirror_mode": {
    "name": "ipython",
    "version": 3
   },
   "file_extension": ".py",
   "mimetype": "text/x-python",
   "name": "python",
   "nbconvert_exporter": "python",
   "pygments_lexer": "ipython3",
   "version": "3.8.5"
  }
 },
 "nbformat": 4,
 "nbformat_minor": 4
}
